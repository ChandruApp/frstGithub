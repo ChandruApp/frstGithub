{
  "nbformat": 4,
  "nbformat_minor": 0,
  "metadata": {
    "colab": {
      "name": "Untitled0.ipynb",
      "provenance": []
    },
    "kernelspec": {
      "name": "python3",
      "display_name": "Python 3"
    },
    "language_info": {
      "name": "python"
    }
  },
  "cells": [
    {
      "cell_type": "code",
      "execution_count": 1,
      "metadata": {
        "colab": {
          "base_uri": "https://localhost:8080/"
        },
        "id": "ZHvIR9HvNxP9",
        "outputId": "2ecc7642-fa81-4fd6-a039-ad6c1c21ba3c"
      },
      "outputs": [
        {
          "output_type": "stream",
          "name": "stdout",
          "text": [
            "Enter a Number \n",
            "\n",
            "1234\n",
            "Reverse is: 4321 \n"
          ]
        }
      ],
      "source": [
        "print(\"Enter a Number \\n\")\n",
        "num = int(input())\n",
        "rev = 0\n",
        "while num > 0:\n",
        "    rev = (rev*10) + (num %10);\n",
        "    num = num//10\n",
        "print(\"Reverse is: %d \" %rev)"
      ]
    }
  ]
}